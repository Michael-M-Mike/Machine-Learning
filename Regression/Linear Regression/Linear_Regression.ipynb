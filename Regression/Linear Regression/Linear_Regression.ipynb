{
  "nbformat": 4,
  "nbformat_minor": 0,
  "metadata": {
    "colab": {
      "name": "Linear Regression.ipynb",
      "provenance": []
    },
    "kernelspec": {
      "name": "python3",
      "display_name": "Python 3"
    }
  },
  "cells": [
    {
      "cell_type": "code",
      "metadata": {
        "id": "riOp8XUi0DHF"
      },
      "source": [
        "import numpy as np\n",
        "import pandas as pd\n",
        "import matplotlib.pyplot as plt\n",
        "\n",
        "from sklearn.preprocessing import MinMaxScaler\n",
        "from sklearn.linear_model import LinearRegression"
      ],
      "execution_count": null,
      "outputs": []
    },
    {
      "cell_type": "markdown",
      "metadata": {
        "id": "ZgTUP1Jn-nKU"
      },
      "source": [
        "# Utils"
      ]
    },
    {
      "cell_type": "code",
      "metadata": {
        "id": "Rp-DMvkb8SKW"
      },
      "source": [
        "def min_max_normalize(array):\n",
        "    \n",
        "    \"\"\"\n",
        "        Normalizes the given array using min-max normalization.\n",
        "    \"\"\"\n",
        "\n",
        "    scaler = MinMaxScaler()\n",
        "    return scaler.fit_transform(array)"
      ],
      "execution_count": null,
      "outputs": []
    },
    {
      "cell_type": "markdown",
      "metadata": {
        "id": "ZlRZvkRD-1Zm"
      },
      "source": [
        "# Linear Regression Model Class"
      ]
    },
    {
      "cell_type": "code",
      "metadata": {
        "id": "7FKjovS-0Gb0"
      },
      "source": [
        "class LinearRegressionModel:\n",
        "\n",
        "    def __init__(self):\n",
        "        self.w = None\n",
        "        self.b = None\n",
        "        self.cost_history = []\n",
        "\n",
        "    def hypothesis(self, w, b, x):\n",
        "\n",
        "        \"\"\"\n",
        "            Inputs:\n",
        "\n",
        "                - x: features   (numpy array of shape (m, n))\n",
        "                - w: weights    (numpy array of shape (1, n))\n",
        "                - b: bias       (scalar)\n",
        "\n",
        "            Output:\n",
        "\n",
        "                - h: hypothesis (numpy array of shape (1, m))\n",
        "                     where h = w.x + b\n",
        "        \"\"\"\n",
        "\n",
        "        h = np.dot(w, x.T) + b\n",
        "        return h\n",
        "\n",
        "    def cost(self, y, h):\n",
        "\n",
        "        \"\"\"\n",
        "            Inputs:\n",
        "\n",
        "                - y: targets    (numpy array of shape (m, 1))\n",
        "                - h: hypothesis (numpy array of shape (1, m))\n",
        "\n",
        "            Output:\n",
        "\n",
        "                - c: cost       (float)\n",
        "                     where c = (1 / 2) sum((y - h)^2)\n",
        "        \"\"\"\n",
        "\n",
        "        c = (1 / (2 * h.shape[1])) * np.sum((h - y.T) ** 2)\n",
        "        return c\n",
        "\n",
        "    def gradient(self, y, h, x):\n",
        "\n",
        "        \"\"\"\n",
        "            Inputs: \n",
        "\n",
        "                - y: targets    (numpy array of shape (m, 1))\n",
        "                - h: hypothesis (numpy array of shape (1, m))\n",
        "                - x: features   (numpy array of shape (m, n))\n",
        "\n",
        "            Output:\n",
        "\n",
        "                - g: gradient   (dict)\n",
        "                                [\"w\"] = weights (numpy array of shape (1, n))\n",
        "                                [\"b\"] = bias    (scalar)\n",
        "                     w = sum((y - h) . x)\n",
        "                     b = sum(y - h)  \n",
        "        \"\"\"\n",
        "\n",
        "        g = {}\n",
        "        g[\"w\"] = (1 / h.shape[1]) * np.dot((h - y.T), x)\n",
        "        g[\"b\"] = (1 / h.shape[1]) * np.sum(h - y.T)\n",
        "        return g\n",
        "\n",
        "    def gradient_descent(self, x_train, y_train, learning_rate, num_iterations):\n",
        "        \n",
        "        \"\"\"\n",
        "            Inputs:\n",
        "\n",
        "                - x_train: features     (numpy array of shape (m, n))\n",
        "                - y_train: targets      (numpy array of shape (m, 1))\n",
        "                - learning_rate:        (float)\n",
        "                - num_iterations:       (int)\n",
        "\n",
        "            Output:\n",
        "\n",
        "                - (dict) \n",
        "                d[\"w\"] = weights      (numpy array of shape (1, n))\n",
        "                d[\"b\"] = bias         (scalar)\n",
        "                d[\"c\"] = cost_history (list)\n",
        "        \"\"\"\n",
        "\n",
        "        # Parameters Initialization\n",
        "        w = np.zeros(shape=(1, x_train.shape[1]))\n",
        "        b = 0\n",
        "\n",
        "        # Run Gradient Descent while keep tracking of the Cost\n",
        "        cost_history = []\n",
        "        print(\"Training Model...\")\n",
        "        for i in range(num_iterations):\n",
        "\n",
        "            # Obtain Predictions with Current Weights\n",
        "            h = self.hypothesis(w, b, x_train)\n",
        "\n",
        "            # Update Weights\n",
        "            g = self.gradient(y_train, h, x_train)\n",
        "            w = w - learning_rate * g[\"w\"]\n",
        "            b = b - learning_rate * g[\"b\"]\n",
        "\n",
        "            # Add Iteration's Cost to Cost History\n",
        "            c = self.cost(y_train, h)\n",
        "            cost_history.append(c)\n",
        "        \n",
        "        # Update Model's Parameters\n",
        "        print(\"Training Complete.\")\n",
        "        return {\"w\": w, \"b\": b, \"c\": cost_history}\n",
        "\n",
        "    def fit(self, x_train, y_train, learning_rate, num_iterations):\n",
        "\n",
        "        \"\"\"\n",
        "            Model's fit function.\n",
        "\n",
        "            Inputs:\n",
        "\n",
        "                - x_train        (numpy array of shape (num_dataPoints, num_features))\n",
        "                - y_train        (numpy array of shape (num_dataPoints, 1))\n",
        "                - learning rate  (float)\n",
        "                - num_iterations (int)\n",
        "\n",
        "            Output:\n",
        "\n",
        "                - None (Updates model's parameters)\n",
        "\n",
        "        \"\"\"\n",
        "\n",
        "        # Run Gradient Descent\n",
        "        d = self.gradient_descent(x_train, y_train, learning_rate, num_iterations)\n",
        "\n",
        "        # Update Model's Parameters\n",
        "        self.w = d[\"w\"]\n",
        "        self.b = d[\"b\"]\n",
        "        self.cost_history = d[\"c\"]\n",
        "\n",
        "    def plot_cost(self):\n",
        "\n",
        "        \"\"\"\n",
        "            Plots the cost function over iterations.\n",
        "        \"\"\"\n",
        "\n",
        "        if len(cost_history) == 0:\n",
        "            print(\"Can't plot cost function. Fit the model first.\")\n",
        "        else: \n",
        "            plt.plot(self.cost_history, '-')\n",
        "            plt.title(\"Cost Function\")\n",
        "            plt.show()      \n",
        "\n",
        "    def validate(self, x_val, y_val):\n",
        "\n",
        "        \"\"\"\n",
        "            Inputs:\n",
        "\n",
        "                - x_val (numpy array of shape (num_dataPoints, num_features))\n",
        "                - y_val (numpy array of shape (num_dataPoints, 1))\n",
        "\n",
        "            Output:\n",
        "\n",
        "                - Mean Squared Error of the model on the validation data.\n",
        "        \"\"\"\n",
        "        predictions = hypothesis(self.w, self.b, x_val)\n",
        "        print(f\"Mean Squared Error = {cost(y_val, predictions)}\")\n",
        "\n",
        "    def predict(self, x_test):\n",
        "\n",
        "        \"\"\"\n",
        "            Inputs:\n",
        "                \n",
        "                - x_test (numpy array of shape (num_dataPoints, num_features))\n",
        "\n",
        "            Output:\n",
        "\n",
        "                - Model's predictions (numpy array of shape (1, num_dataPoints))\n",
        "\n",
        "        \"\"\"\n",
        "        predictions = hypothesis(self.w, self.b, x_val)\n",
        "        return predictions"
      ],
      "execution_count": null,
      "outputs": []
    },
    {
      "cell_type": "markdown",
      "metadata": {
        "id": "DctGXiRF-53q"
      },
      "source": [
        "# Loading the Dataset"
      ]
    },
    {
      "cell_type": "code",
      "metadata": {
        "id": "zS0fxLhE10Mi"
      },
      "source": [
        "train_df = pd.read_csv(\"sample_data/california_housing_train.csv\")\n",
        "test_df = pd.read_csv(\"sample_data/california_housing_train.csv\")"
      ],
      "execution_count": null,
      "outputs": []
    },
    {
      "cell_type": "code",
      "metadata": {
        "id": "ciydaVdz2b9u",
        "outputId": "d5aa386e-f374-47de-c7ab-4a17124f8bd9",
        "colab": {
          "base_uri": "https://localhost:8080/"
        }
      },
      "source": [
        "train_df.info()"
      ],
      "execution_count": null,
      "outputs": [
        {
          "output_type": "stream",
          "text": [
            "<class 'pandas.core.frame.DataFrame'>\n",
            "RangeIndex: 17000 entries, 0 to 16999\n",
            "Data columns (total 9 columns):\n",
            " #   Column              Non-Null Count  Dtype  \n",
            "---  ------              --------------  -----  \n",
            " 0   longitude           17000 non-null  float64\n",
            " 1   latitude            17000 non-null  float64\n",
            " 2   housing_median_age  17000 non-null  float64\n",
            " 3   total_rooms         17000 non-null  float64\n",
            " 4   total_bedrooms      17000 non-null  float64\n",
            " 5   population          17000 non-null  float64\n",
            " 6   households          17000 non-null  float64\n",
            " 7   median_income       17000 non-null  float64\n",
            " 8   median_house_value  17000 non-null  float64\n",
            "dtypes: float64(9)\n",
            "memory usage: 1.2 MB\n"
          ],
          "name": "stdout"
        }
      ]
    },
    {
      "cell_type": "markdown",
      "metadata": {
        "id": "L2NvlvR2_Ac-"
      },
      "source": [
        "# Dataset Preparation"
      ]
    },
    {
      "cell_type": "code",
      "metadata": {
        "id": "UOAE6JrX87Zo",
        "outputId": "5e593dfd-4511-444d-8186-abfa23f417b8",
        "colab": {
          "base_uri": "https://localhost:8080/"
        }
      },
      "source": [
        "target_label = \"median_house_value\"\n",
        "\n",
        "# Drop Target Column\n",
        "x_train = train_df.drop(target_label, axis=1)\n",
        "x_test = test_df.drop(target_label, axis=1)\n",
        "\n",
        "# Convert pandas dataframe to numpy array\n",
        "x_train = np.array(x_train)\n",
        "x_test = np.array(x_test)\n",
        "\n",
        "# Normalize array\n",
        "x_train = min_max_normalize(x_train)\n",
        "x_test = min_max_normalize(x_test)\n",
        "\n",
        "print(f\"x_train.shape: {x_train.shape}\")\n",
        "print(f\"x_test.shape: {x_test.shape}\")"
      ],
      "execution_count": null,
      "outputs": [
        {
          "output_type": "stream",
          "text": [
            "x_train.shape: (17000, 8)\n",
            "x_test.shape: (17000, 8)\n"
          ],
          "name": "stdout"
        }
      ]
    },
    {
      "cell_type": "code",
      "metadata": {
        "id": "Kq1Jhk0X9EUm",
        "outputId": "a9c7c724-eb7a-4ad7-ee98-c85f1473bec3",
        "colab": {
          "base_uri": "https://localhost:8080/"
        }
      },
      "source": [
        "# Get Target Column\n",
        "y_train = train_df[target_label]\n",
        "y_test = test_df[target_label]\n",
        "\n",
        "# Convert pandas series to numpy array\n",
        "y_train = np.array(y_train).reshape(-1, 1)\n",
        "y_test = np.array(y_test).reshape(-1, 1)\n",
        "\n",
        "print(f\"y_train.shape: {y_train.shape}\")\n",
        "print(f\"y_test.shape: {y_test.shape}\")"
      ],
      "execution_count": null,
      "outputs": [
        {
          "output_type": "stream",
          "text": [
            "y_train.shape: (17000, 1)\n",
            "y_test.shape: (17000, 1)\n"
          ],
          "name": "stdout"
        }
      ]
    },
    {
      "cell_type": "markdown",
      "metadata": {
        "id": "CqeXGuPN_Dya"
      },
      "source": [
        "# Creating and Fitting the Model"
      ]
    },
    {
      "cell_type": "code",
      "metadata": {
        "id": "Ehbk2LEb-Xho",
        "outputId": "6ba99ded-e12d-4a26-e83b-1a8278cc8ac8",
        "colab": {
          "base_uri": "https://localhost:8080/",
          "height": 85
        }
      },
      "source": [
        "model = LinearRegressionModel()\n",
        "\n",
        "# Model Hyperparameters\n",
        "learning_rate = 1\n",
        "num_iterations = 20000\n",
        "\n",
        "model.fit(x_train, y_train, learning_rate, num_iterations)\n",
        "print(model.w)"
      ],
      "execution_count": null,
      "outputs": [
        {
          "output_type": "stream",
          "text": [
            "Training Model...\n",
            "Training Complete.\n",
            "[[ -433309.80034907  -403817.54328963    58760.24668404  -319839.13639213\n",
            "    761247.67166261 -1333259.43715122   256146.17723551   587658.78586377]]\n"
          ],
          "name": "stdout"
        }
      ]
    },
    {
      "cell_type": "markdown",
      "metadata": {
        "id": "kkWRr6-iJ1Nu"
      },
      "source": [
        "# Comparing the Model with Sklearn's Model"
      ]
    },
    {
      "cell_type": "code",
      "metadata": {
        "id": "8Y9XEIey_W_X",
        "outputId": "50fb1f8c-aa6b-4de4-8754-a413e63c21ce",
        "colab": {
          "base_uri": "https://localhost:8080/",
          "height": 51
        }
      },
      "source": [
        "sk_model = LinearRegression()\n",
        "sk_model.fit(x_train, y_train)\n",
        "print(sk_model.coef_)"
      ],
      "execution_count": null,
      "outputs": [
        {
          "output_type": "stream",
          "text": [
            "[[ -433121.95806617  -403930.58376103    58685.44155621  -317828.95977251\n",
            "    758127.21007451 -1373240.89961211   276296.33152023   587360.59262494]]\n"
          ],
          "name": "stdout"
        }
      ]
    }
  ]
}